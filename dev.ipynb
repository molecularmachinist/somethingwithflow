{
 "cells": [
  {
   "cell_type": "code",
   "execution_count": 48,
   "metadata": {
    "collapsed": true,
    "pycharm": {
     "name": "#%%\n"
    }
   },
   "outputs": [],
   "source": [
    "import numpy as np\n",
    "from sklearn.model_selection import GridSearchCV\n",
    "from sklearn.decomposition import PCA\n",
    "from sklearn.pipeline import Pipeline\n",
    "from sklearn.mixture import GaussianMixture\n"
   ]
  },
  {
   "cell_type": "code",
   "execution_count": 49,
   "outputs": [],
   "source": [
    "d = np.load(\"drors_for_all.npy\")\n",
    "X = d[0:-1:10,:4]\n",
    "Y = d[0:-1:10,4]"
   ],
   "metadata": {
    "collapsed": false,
    "pycharm": {
     "name": "#%%\n"
    }
   }
  },
  {
   "cell_type": "code",
   "execution_count": 50,
   "outputs": [],
   "source": [
    "\n",
    "\n",
    "class PipelineGrid:\n",
    "\n",
    "    def __init__(self, dim_reducer, param_grid, classifier):\n",
    "        self.dim_reducer = dim_reducer\n",
    "        self.classifier = classifier\n",
    "        self.param_grid = param_grid\n",
    "        self.pipeline = Pipeline(steps=[(\"reducer\", dim_reducer), (\"classifier\", classifier)])\n",
    "        self.grid_search = GridSearchCV(self.pipeline, param_grid=param_grid)\n",
    "\n",
    "    def fit(self, X): self.grid_search.fit(X)\n",
    "\n",
    "    def get_best_estimator(self, X):\n",
    "        self.fit(X)\n",
    "        return self.grid_search.best_estimator_\n",
    "\n",
    "    def get_all_estimators(self): return self.grid_search.cv_results_[\"params\"]\n",
    "\n",
    "    def fit_subpipes(self, X):\n",
    "        self.fit(X)\n",
    "        pipes = []\n",
    "        perms = self.get_all_estimators()\n",
    "        for perm in perms:\n",
    "            subpipe = Pipeline(steps=[(\"reducer\", self.dim_reducer), (\"classifier\", self.classifier)])\n",
    "            for k, v in perm.items():\n",
    "                subpipe.set_params(**{k: v})\n",
    "            preds = subpipe.fit_predict(X)\n",
    "            perm[\"preds\"] = preds\n",
    "            pipes.append(perm)\n",
    "\n",
    "        return pipes\n",
    "\n",
    "    def get_populations(self, X, Y):\n",
    "        fitted_subpipes = self.fit_subpipes(X)\n",
    "        for fit in fitted_subpipes:\n",
    "            populations = {}\n",
    "            for system in set(Y):\n",
    "                system_indices = np.where(Y == system)\n",
    "                fit_preds = fit[\"preds\"]\n",
    "                system_preds = fit_preds[system_indices]\n",
    "                populations[system] = [system_preds[system_preds == i].shape[0] / system_preds.shape[0] for i in set(system_preds)]\n",
    "            fit[\"populations\"] = populations\n",
    "        return fitted_subpipes\n",
    "\n"
   ],
   "metadata": {
    "collapsed": false,
    "pycharm": {
     "name": "#%%\n"
    }
   }
  },
  {
   "cell_type": "code",
   "execution_count": 51,
   "outputs": [
    {
     "name": "stdout",
     "output_type": "stream",
     "text": [
      "[{'classifier__n_components': 2, 'reducer__n_components': 1, 'preds': array([0, 0, 0, ..., 0, 0, 0]), 'populations': {1.0: [1.0], 2.0: [0.1217564870259481, 0.8782435129740519], 3.0: [0.982, 0.018], 4.0: [0.91, 0.09], 5.0: [0.904, 0.096], 6.0: [0.956, 0.044], 7.0: [0.845691382765531, 0.15430861723446893], 8.0: [1.0]}}, {'classifier__n_components': 2, 'reducer__n_components': 2, 'preds': array([1, 1, 1, ..., 1, 1, 1]), 'populations': {1.0: [0.002, 0.998], 2.0: [0.8862275449101796, 0.11377245508982035], 3.0: [0.026, 0.974], 4.0: [0.084, 0.916], 5.0: [0.104, 0.896], 6.0: [0.044, 0.956], 7.0: [0.1623246492985972, 0.8376753507014028], 8.0: [1.0]}}, {'classifier__n_components': 2, 'reducer__n_components': 3, 'preds': array([1, 1, 1, ..., 1, 1, 1]), 'populations': {1.0: [1.0], 2.0: [0.8802395209580839, 0.11976047904191617], 3.0: [0.032, 0.968], 4.0: [0.084, 0.916], 5.0: [0.104, 0.896], 6.0: [0.046, 0.954], 7.0: [0.1623246492985972, 0.8376753507014028], 8.0: [1.0]}}, {'classifier__n_components': 3, 'reducer__n_components': 1, 'preds': array([0, 0, 0, ..., 0, 0, 0]), 'populations': {1.0: [0.874, 0.126], 2.0: [0.001996007984031936, 0.8782435129740519, 0.11976047904191617], 3.0: [0.53, 0.018, 0.452], 4.0: [0.512, 0.09, 0.398], 5.0: [0.526, 0.096, 0.378], 6.0: [0.762, 0.044, 0.194], 7.0: [0.531062124248497, 0.15430861723446893, 0.31462925851703405], 8.0: [0.9244444444444444, 0.07555555555555556]}}, {'classifier__n_components': 3, 'reducer__n_components': 2, 'preds': array([1, 1, 1, ..., 1, 1, 1]), 'populations': {1.0: [0.014, 0.984, 0.002], 2.0: [0.06786427145708583, 0.04590818363273453, 0.8862275449101796], 3.0: [0.356, 0.622, 0.022], 4.0: [0.474, 0.442, 0.084], 5.0: [0.212, 0.684, 0.104], 6.0: [0.102, 0.854, 0.044], 7.0: [0.1462925851703407, 0.6933867735470942, 0.16032064128256512], 8.0: [0.028888888888888888, 0.9711111111111111]}}, {'classifier__n_components': 3, 'reducer__n_components': 3, 'preds': array([0, 0, 0, ..., 0, 0, 0]), 'populations': {1.0: [0.984, 0.002, 0.014], 2.0: [0.06187624750499002, 0.8802395209580839, 0.05788423153692615], 3.0: [0.61, 0.032, 0.358], 4.0: [0.428, 0.084, 0.488], 5.0: [0.688, 0.104, 0.208], 6.0: [0.854, 0.044, 0.102], 7.0: [0.6973947895791583, 0.1623246492985972, 0.1402805611222445], 8.0: [0.98, 0.02]}}, {'classifier__n_components': 4, 'reducer__n_components': 1, 'preds': array([0, 0, 0, ..., 0, 0, 3]), 'populations': {1.0: [0.59, 0.024, 0.386], 2.0: [0.007984031936127744, 0.872255489021956, 0.11976047904191617], 3.0: [0.618, 0.012, 0.206, 0.164], 4.0: [0.496, 0.08, 0.226, 0.198], 5.0: [0.578, 0.096, 0.18, 0.146], 6.0: [0.308, 0.04, 0.128, 0.524], 7.0: [0.6693386773547094, 0.15030060120240482, 0.12024048096192384, 0.06012024048096192], 8.0: [0.46, 0.022222222222222223, 0.5177777777777778]}}, {'classifier__n_components': 4, 'reducer__n_components': 2, 'preds': array([1, 2, 2, ..., 2, 2, 2]), 'populations': {1.0: [0.016, 0.148, 0.836], 2.0: [0.021956087824351298, 0.09780439121756487, 0.001996007984031936, 0.8782435129740519], 3.0: [0.336, 0.25, 0.396, 0.018], 4.0: [0.432, 0.188, 0.294, 0.086], 5.0: [0.198, 0.308, 0.396, 0.098], 6.0: [0.08, 0.16, 0.718, 0.042], 7.0: [0.11222444889779559, 0.2565130260521042, 0.4729458917835671, 0.15831663326653306], 8.0: [0.017777777777777778, 0.08, 0.9022222222222223]}}, {'classifier__n_components': 4, 'reducer__n_components': 3, 'preds': array([0, 0, 0, ..., 0, 3, 0]), 'populations': {1.0: [0.358, 0.008, 0.002, 0.632], 2.0: [0.07584830339321358, 0.03592814371257485, 0.8822355289421158, 0.005988023952095809], 3.0: [0.052, 0.366, 0.03, 0.552], 4.0: [0.126, 0.53, 0.086, 0.258], 5.0: [0.076, 0.2, 0.104, 0.62], 6.0: [0.636, 0.098, 0.044, 0.222], 7.0: [0.4529058116232465, 0.11422845691382766, 0.1623246492985972, 0.27054108216432865], 8.0: [0.31333333333333335, 0.011111111111111112, 0.6755555555555556]}}, {'classifier__n_components': 5, 'reducer__n_components': 1, 'preds': array([2, 2, 2, ..., 2, 2, 2]), 'populations': {1.0: [0.08, 0.666, 0.254], 2.0: [0.10978043912175649, 0.6706586826347305, 0.003992015968063872, 0.2155688622754491], 3.0: [0.324, 0.53, 0.026, 0.12], 4.0: [0.326, 0.004, 0.448, 0.092, 0.13], 5.0: [0.302, 0.076, 0.51, 0.022, 0.09], 6.0: [0.166, 0.03, 0.332, 0.016, 0.456], 7.0: [0.21442885771543085, 0.012024048096192385, 0.5951903807615231, 0.15030060120240482, 0.028056112224448898], 8.0: [0.044444444444444446, 0.6133333333333333, 0.3422222222222222]}}, {'classifier__n_components': 5, 'reducer__n_components': 2, 'preds': array([3, 4, 3, ..., 4, 4, 4]), 'populations': {1.0: [0.02, 0.24, 0.74], 2.0: [0.20758483033932135, 0.003992015968063872, 0.7225548902195609, 0.06387225548902195, 0.001996007984031936], 3.0: [0.036, 0.336, 0.306, 0.322], 4.0: [0.104, 0.43, 0.004, 0.23, 0.232], 5.0: [0.02, 0.196, 0.084, 0.372, 0.328], 6.0: [0.02, 0.074, 0.03, 0.2, 0.676], 7.0: [0.1402805611222445, 0.11022044088176353, 0.03206412825651302, 0.39478957915831664, 0.3226452905811623], 8.0: [0.02, 0.13777777777777778, 0.8422222222222222]}}, {'classifier__n_components': 5, 'reducer__n_components': 3, 'preds': array([1, 2, 1, ..., 2, 1, 2]), 'populations': {1.0: [0.026, 0.674, 0.288, 0.012], 2.0: [0.13972055888223553, 0.001996007984031936, 0.03792415169660679, 0.8163672654690619, 0.003992015968063872], 3.0: [0.124, 0.494, 0.034, 0.348], 4.0: [0.138, 0.29, 0.082, 0.018, 0.472], 5.0: [0.152, 0.534, 0.05, 0.09, 0.174], 6.0: [0.086, 0.238, 0.56, 0.036, 0.08], 7.0: [0.1523046092184369, 0.2985971943887776, 0.3847695390781563, 0.07615230460921844, 0.08817635270541083], 8.0: [0.015555555555555555, 0.7022222222222222, 0.2777777777777778, 0.0044444444444444444]}}]\n"
     ]
    }
   ],
   "source": [
    "dr = PCA()\n",
    "c = GaussianMixture()\n",
    "params = {\"reducer__n_components\": [1,2,3], \"classifier__n_components\": [2,3,4,5]}\n",
    "\n",
    "pipe = PipelineGrid(dim_reducer=dr, param_grid=params, classifier=c)\n",
    "\n",
    "print(pipe.get_populations(X, Y))"
   ],
   "metadata": {
    "collapsed": false,
    "pycharm": {
     "name": "#%%\n"
    }
   }
  },
  {
   "cell_type": "code",
   "execution_count": null,
   "outputs": [],
   "source": [],
   "metadata": {
    "collapsed": false,
    "pycharm": {
     "name": "#%%\n",
     "is_executing": true
    }
   }
  },
  {
   "cell_type": "code",
   "execution_count": 51,
   "outputs": [],
   "source": [],
   "metadata": {
    "collapsed": false,
    "pycharm": {
     "name": "#%%\n"
    }
   }
  }
 ],
 "metadata": {
  "kernelspec": {
   "display_name": "Python 3",
   "language": "python",
   "name": "python3"
  },
  "language_info": {
   "codemirror_mode": {
    "name": "ipython",
    "version": 2
   },
   "file_extension": ".py",
   "mimetype": "text/x-python",
   "name": "python",
   "nbconvert_exporter": "python",
   "pygments_lexer": "ipython2",
   "version": "2.7.6"
  }
 },
 "nbformat": 4,
 "nbformat_minor": 0
}