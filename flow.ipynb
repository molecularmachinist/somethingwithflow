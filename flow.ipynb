{
 "cells": [
  {
   "cell_type": "code",
   "execution_count": 1,
   "metadata": {
    "collapsed": true,
    "pycharm": {
     "is_executing": true
    }
   },
   "outputs": [],
   "source": [
    "import numpy as np\n",
    "from sklearn.model_selection import GridSearchCV\n",
    "from sklearn.decomposition import PCA\n",
    "from sklearn.pipeline import Pipeline\n",
    "from sklearn.mixture import GaussianMixture\n",
    "from scipy.special import kl_div\n",
    "import MDAnalysis as mda\n",
    "import sys"
   ]
  },
  {
   "cell_type": "markdown",
   "metadata": {},
   "source": [
    "## Making test data"
   ]
  },
  {
   "cell_type": "code",
   "execution_count": 10,
   "metadata": {
    "collapsed": false,
    "pycharm": {
     "is_executing": true
    }
   },
   "outputs": [],
   "source": [
    "\n",
    "cosmos1 = mda.Universe(\"../binding_spots_project/gpcr_sampling/b2ar/chol/site-3/step6.0_minimization.gro\",\n",
    "                      \"../binding_spots_project/gpcr_sampling/b2ar/chol/site-3/short10.xtc\")\n",
    "cosmos2 = mda.Universe(\"../binding_spots_project/gpcr_sampling/b2ar/sdpc/short.gro\",\n",
    "                      \"../binding_spots_project/gpcr_sampling/b2ar/sdpc/short10.xtc\")\n",
    "\n",
    "selection = \"name CA\"\n",
    "\n",
    "pos1 = np.zeros(3).reshape(1,3)\n",
    "\n",
    "for ts in cosmos1.trajectory[0:-1:5]:\n",
    "    pos1 = np.concatenate((pos1, cosmos1.select_atoms(selection).positions))\n",
    "\n",
    "pos1 = pos1[~np.all(pos1 == 0, axis=1)]    \n",
    "pos1 = np.concatenate((pos1, np.ones(pos1.shape[0]).reshape(pos1.shape[0], 1)), axis=1)\n",
    "\n",
    "\n",
    "pos2 = np.zeros(3).reshape(1,3)\n",
    "\n",
    "for ts in cosmos2.trajectory[0:-1:5]:\n",
    "    pos2 = np.concatenate((pos2, cosmos2.select_atoms(selection).positions))\n",
    "\n",
    "pos2 = pos2[~np.all(pos2 == 0, axis=1)]    \n",
    "pos2 = np.concatenate((pos2, np.ones(pos2.shape[0]).reshape(pos2.shape[0], 1)), axis=1)\n",
    "\n",
    "X = np.concatenate((pos1, pos2))\n"
   ]
  },
  {
   "cell_type": "markdown",
   "metadata": {},
   "source": [
    "## FLOW"
   ]
  },
  {
   "cell_type": "code",
   "execution_count": 19,
   "metadata": {
    "collapsed": false
   },
   "outputs": [],
   "source": [
    "\n",
    "default_reducers = [PCA()]\n",
    "default_classifiers = [GaussianMixture()]\n",
    "\n",
    "default_settings = {\n",
    "    \"n_components\": [2,3,4,5,6]\n",
    "}\n",
    "\n",
    "\n",
    "test_params = {\n",
    "    PCA.__name__: default_settings,\n",
    "    GaussianMixture.__name__: default_settings\n",
    "}\n",
    "\n",
    "test_steps = [(PCA.__name__, PCA()), (GaussianMixture.__name__, GaussianMixture())]"
   ]
  },
  {
   "cell_type": "code",
   "execution_count": 26,
   "metadata": {},
   "outputs": [],
   "source": [
    "\n",
    "def build_pipeline(steps, params):\n",
    "    pipeline = Pipeline(steps=steps)\n",
    "    for k, v in params.items():\n",
    "        for kk, vv in v.items():\n",
    "            pipeline.set_params(**{k + \"__\" + kk: vv})\n",
    "    return pipeline\n",
    "\n",
    "\n",
    "\n",
    "\n"
   ]
  }
 ],
 "metadata": {
  "kernelspec": {
   "display_name": "Python 3.10.6 64-bit",
   "language": "python",
   "name": "python3"
  },
  "language_info": {
   "codemirror_mode": {
    "name": "ipython",
    "version": 3
   },
   "file_extension": ".py",
   "mimetype": "text/x-python",
   "name": "python",
   "nbconvert_exporter": "python",
   "pygments_lexer": "ipython3",
   "version": "3.10.6"
  },
  "vscode": {
   "interpreter": {
    "hash": "31f2aee4e71d21fbe5cf8b01ff0e069b9275f58929596ceb00d14d90e3e16cd6"
   }
  }
 },
 "nbformat": 4,
 "nbformat_minor": 0
}
