{
 "cells": [
  {
   "cell_type": "code",
   "execution_count": 6,
   "metadata": {},
   "outputs": [],
   "source": [
    "import torch\n",
    "from torch import nn, optim\n",
    "import numpy as np\n",
    "from matplotlib import pyplot as plt\n",
    "import mpl_toolkits.mplot3d.axes3d as p3\n",
    "from sklearn.datasets import make_swiss_roll\n",
    "from sklearn.preprocessing import MinMaxScaler, StandardScaler\n",
    "import pickle as pkl\n",
    "import random\n",
    "from sklearn.model_selection import train_test_split\n",
    "import glob\n",
    "import MDAnalysis as mda\n",
    "import itertools\n",
    "\n",
    "import skorch\n"
   ]
  },
  {
   "cell_type": "code",
   "execution_count": 3,
   "metadata": {},
   "outputs": [
    {
     "name": "stdout",
     "output_type": "stream",
     "text": [
      "Using cuda device.\n"
     ]
    }
   ],
   "source": [
    "device = ('cuda' if torch.cuda.is_available() else 'cpu')\n",
    "\n",
    "print(f\"Using {device} device.\")"
   ]
  },
  {
   "cell_type": "code",
   "execution_count": 4,
   "metadata": {},
   "outputs": [],
   "source": [
    "torch.cuda.empty_cache()"
   ]
  },
  {
   "cell_type": "code",
   "execution_count": 5,
   "metadata": {},
   "outputs": [],
   "source": [
    "# The encoder\n",
    "\n",
    "\n",
    "class Autoencoder(nn.Module):\n",
    "\n",
    "    def __init__(self, in_shape, enc_shape, middle_shape):\n",
    "        super(Autoencoder, self).__init__()\n",
    "\n",
    "        self.encode = nn.Sequential(\n",
    "            nn.Linear(in_shape, middle_shape),\n",
    "            nn.ReLU(True),\n",
    "            nn.Linear(middle_shape, middle_shape),\n",
    "            nn.ReLU(True),\n",
    "            nn.Linear(middle_shape, middle_shape),\n",
    "            nn.ReLU(True),\n",
    "            nn.Linear(middle_shape, enc_shape)\n",
    "        )\n",
    "\n",
    "        self.decode = nn.Sequential(\n",
    "            nn.Linear(enc_shape, middle_shape),\n",
    "            nn.ReLU(True),\n",
    "            nn.Linear(middle_shape, middle_shape),\n",
    "            nn.ReLU(True),\n",
    "            nn.Linear(middle_shape, middle_shape),\n",
    "            nn.ReLU(True),\n",
    "            nn.Linear(middle_shape, in_shape)\n",
    "        )\n",
    "        \n",
    "    def forward(self, x):\n",
    "        x = self.encode(x)\n",
    "        x = self.decode(x)\n",
    "        return x"
   ]
  },
  {
   "cell_type": "code",
   "execution_count": 9,
   "metadata": {},
   "outputs": [],
   "source": [
    "def create_ae(in_shape, enc_shape, middle_shape):\n",
    "    return Autoencoder(in_shape=in_shape, enc_shape=enc_shape, middle_shape=middle_shape)\n"
   ]
  },
  {
   "cell_type": "code",
   "execution_count": 11,
   "metadata": {},
   "outputs": [],
   "source": [
    "m = skorch.NeuralNet(\n",
    "    Autoencoder(10, 2, 30),\n",
    "    criterion=nn.MSELoss,\n",
    "    optimizer=torch.optim.Adam\n",
    ")"
   ]
  },
  {
   "cell_type": "code",
   "execution_count": 13,
   "metadata": {},
   "outputs": [
    {
     "name": "stdout",
     "output_type": "stream",
     "text": [
      "<class 'skorch.net.NeuralNet'>[uninitialized](\n",
      "  module=Autoencoder(\n",
      "    (encode): Sequential(\n",
      "      (0): Linear(in_features=10, out_features=30, bias=True)\n",
      "      (1): ReLU(inplace=True)\n",
      "      (2): Linear(in_features=30, out_features=30, bias=True)\n",
      "      (3): ReLU(inplace=True)\n",
      "      (4): Linear(in_features=30, out_features=30, bias=True)\n",
      "      (5): ReLU(inplace=True)\n",
      "      (6): Linear(in_features=30, out_features=2, bias=True)\n",
      "    )\n",
      "    (decode): Sequential(\n",
      "      (0): Linear(in_features=2, out_features=30, bias=True)\n",
      "      (1): ReLU(inplace=True)\n",
      "      (2): Linear(in_features=30, out_features=30, bias=True)\n",
      "      (3): ReLU(inplace=True)\n",
      "      (4): Linear(in_features=30, out_features=30, bias=True)\n",
      "      (5): ReLU(inplace=True)\n",
      "      (6): Linear(in_features=30, out_features=10, bias=True)\n",
      "    )\n",
      "  ),\n",
      ")\n"
     ]
    }
   ],
   "source": [
    "print(m)"
   ]
  },
  {
   "cell_type": "code",
   "execution_count": 130,
   "metadata": {},
   "outputs": [],
   "source": [
    "# Function to train encoder\n",
    "\n",
    "def train(model, error, optimizer, n_epochs, batch_size, x, plot):\n",
    "    \n",
    "    model.train()\n",
    "    indices = [i for i in range(x.shape[0])]\n",
    "    errors = []\n",
    "    \n",
    "    for epoch in range(n_epochs):\n",
    "        \n",
    "        random.shuffle(indices)\n",
    "        batches = [i for i in range(0, len(indices), batch_size)]\n",
    "\n",
    "        for i in range(len(batches) - 1):\n",
    "            \n",
    "            batch_x = x[indices[batches[i]:batches[i+1]]]\n",
    "            optimizer.zero_grad()\n",
    "            output = model(batch_x)\n",
    "            loss = error(output, batch_x)\n",
    "            loss.backward()\n",
    "            optimizer.step()\n",
    "            errors.append(loss.cpu().detach().numpy())\n",
    "            \n",
    "        if epoch % int(0.1*n_epochs) == 0:\n",
    "            print(f'epoch {epoch} \\t Loss: {loss.item():.4g}')\n",
    "    \n",
    "    if plot:\n",
    "        plt.plot(errors)"
   ]
  },
  {
   "cell_type": "code",
   "execution_count": 131,
   "metadata": {},
   "outputs": [],
   "source": [
    "with open('data_dict.pkl', 'rb') as f:\n",
    "    loaded_dict = pkl.load(f)"
   ]
  },
  {
   "cell_type": "code",
   "execution_count": 132,
   "metadata": {},
   "outputs": [],
   "source": [
    "systems = [\"sdpc\", \"chol-site-3\"]\n",
    "\n",
    "X = np.concatenate([v for k, v in loaded_dict.items() if k in systems])\n",
    "\n",
    "scaler = StandardScaler().fit(X)\n",
    "X = scaler.transform(X)\n",
    "\n",
    "X = X[0:-1:2,:]\n",
    "X = torch.Tensor(X).double().to(device)"
   ]
  },
  {
   "cell_type": "code",
   "execution_count": 133,
   "metadata": {},
   "outputs": [],
   "source": [
    "ids = []\n",
    "\n",
    "for id, (k, v) in enumerate(loaded_dict.items()):\n",
    "    if k in systems:\n",
    "        for i in range(v.shape[0]):\n",
    "            ids.append(id)\n",
    "ids = np.array(ids)\n",
    "ids = ids[0:-1:2]"
   ]
  },
  {
   "cell_type": "code",
   "execution_count": 134,
   "metadata": {},
   "outputs": [],
   "source": [
    "# function to split data into train and test sets\n",
    "def train_test_split(X, test_size):\n",
    "    \n",
    "    indices = [i for i in range(X.shape[0])]\n",
    "    random.shuffle(indices)\n",
    "    \n",
    "    test_indices = indices[:int(test_size*len(indices))]\n",
    "    train_indices = indices[int(test_size*len(indices)):]\n",
    "\n",
    "    trainX = X[train_indices,:]\n",
    "    testX = X[test_indices,:]\n",
    "    \n",
    "    return trainX, testX, train_indices, test_indices\n",
    "    \n",
    "    "
   ]
  },
  {
   "cell_type": "code",
   "execution_count": 135,
   "metadata": {},
   "outputs": [],
   "source": [
    "trainX, testX, train_indices, test_indices = train_test_split(X, 0.8)"
   ]
  },
  {
   "cell_type": "code",
   "execution_count": 136,
   "metadata": {},
   "outputs": [],
   "source": [
    "# Define dimensions\n",
    "enc_shape = 2\n",
    "inc_shape = X.shape[1]\n",
    "middle_shape = 4"
   ]
  },
  {
   "cell_type": "code",
   "execution_count": 137,
   "metadata": {},
   "outputs": [],
   "source": [
    "# Define model and params\n",
    "encoder = Autoencoder(in_shape=inc_shape, enc_shape=enc_shape, middle_shape=middle_shape).double().to(device)\n",
    "error = nn.MSELoss()\n",
    "optimizer = optim.Adam(encoder.parameters(), lr=1e-3)"
   ]
  },
  {
   "cell_type": "code",
   "execution_count": 138,
   "metadata": {},
   "outputs": [
    {
     "name": "stdout",
     "output_type": "stream",
     "text": [
      "epoch 5 \t Loss: 1.076\n",
      "epoch 10 \t Loss: 1.049\n",
      "epoch 15 \t Loss: 1.065\n",
      "epoch 20 \t Loss: 1.05\n",
      "epoch 25 \t Loss: 1.029\n",
      "epoch 30 \t Loss: 0.9772\n",
      "epoch 35 \t Loss: 0.9452\n",
      "epoch 40 \t Loss: 0.9179\n",
      "epoch 45 \t Loss: 0.919\n",
      "epoch 50 \t Loss: 0.9012\n"
     ]
    }
   ],
   "source": [
    "# Train encoder\n",
    "train(encoder, error, optimizer, 50, 128, trainX, plot=False)"
   ]
  },
  {
   "cell_type": "code",
   "execution_count": 139,
   "metadata": {},
   "outputs": [
    {
     "name": "stdout",
     "output_type": "stream",
     "text": [
      "Error on test set: 0.894926997105747\n"
     ]
    }
   ],
   "source": [
    "with torch.no_grad():\n",
    "    encoded = encoder.encode(testX)\n",
    "    decoded = encoder.decode(encoded)\n",
    "    err = error(decoded, testX).item()\n",
    "    print(f\"Error on test set: {err}\")\n",
    "    E = decoded - testX\n",
    "    enc = encoded.cpu().detach().numpy()\n",
    "    dec = decoded.cpu().detach().numpy()"
   ]
  },
  {
   "cell_type": "code",
   "execution_count": 140,
   "metadata": {},
   "outputs": [
    {
     "data": {
      "text/plain": [
       "(array([1979.,    0.,    0.,    0.,    0.,    0.,    0., 2024.]),\n",
       " array([5.   , 5.125, 5.25 , 5.375, 5.5  , 5.625, 5.75 , 5.875, 6.   ]),\n",
       " <BarContainer object of 8 artists>)"
      ]
     },
     "execution_count": 140,
     "metadata": {},
     "output_type": "execute_result"
    },
    {
     "data": {
      "image/png": "[encoded data removed]",
      "text/plain": [
       "<Figure size 432x288 with 1 Axes>"
      ]
     },
     "metadata": {
      "needs_background": "light"
     },
     "output_type": "display_data"
    }
   ],
   "source": [
    "systems = ids[test_indices]\n",
    "plt.hist(systems, bins=8)"
   ]
  },
  {
   "cell_type": "code",
   "execution_count": 141,
   "metadata": {},
   "outputs": [
    {
     "name": "stdout",
     "output_type": "stream",
     "text": [
      "9.409833907938443\n"
     ]
    }
   ],
   "source": [
    "scaled_back_X = scaler.inverse_transform(testX.cpu())\n",
    "scaled_back_dec = scaler.inverse_transform(dec)\n",
    "scaled_back_error = np.mean((scaled_back_dec - scaled_back_X)**2)\n",
    "print(scaled_back_error)"
   ]
  },
  {
   "cell_type": "code",
   "execution_count": null,
   "metadata": {},
   "outputs": [],
   "source": []
  },
  {
   "cell_type": "code",
   "execution_count": 142,
   "metadata": {},
   "outputs": [
    {
     "data": {
      "text/plain": [
       "<matplotlib.collections.PathCollection at 0x7f71918d32b0>"
      ]
     },
     "execution_count": 142,
     "metadata": {},
     "output_type": "execute_result"
    },
    {
     "data": {
      "image/png": "[encoded data removed]",
      "text/plain": [
       "<Figure size 432x288 with 1 Axes>"
      ]
     },
     "metadata": {
      "needs_background": "light"
     },
     "output_type": "display_data"
    }
   ],
   "source": [
    "\n",
    "plt.scatter(enc[:,0], enc[:,1], c=ids[test_indices], alpha=0.5)\n"
   ]
  },
  {
   "cell_type": "code",
   "execution_count": null,
   "metadata": {},
   "outputs": [],
   "source": []
  },
  {
   "cell_type": "code",
   "execution_count": 143,
   "metadata": {},
   "outputs": [
    {
     "data": {
      "text/plain": [
       "<matplotlib.legend.Legend at 0x7f7191c0ae90>"
      ]
     },
     "execution_count": 143,
     "metadata": {},
     "output_type": "execute_result"
    },
    {
     "data": {
      "image/png": "[encoded data removed]",
      "text/plain": [
       "<Figure size 432x288 with 1 Axes>"
      ]
     },
     "metadata": {
      "needs_background": "light"
     },
     "output_type": "display_data"
    }
   ],
   "source": [
    "# Plotting running means of atom positions for reconstruction and original\n",
    "n = 0\n",
    "conv = 333\n",
    "w = np.convolve(scaled_back_dec[:,n], np.ones(conv)/conv, mode='valid')\n",
    "q = np.convolve(scaled_back_X[:,n], np.ones(conv)/conv, mode='valid')\n",
    "\n",
    "plt.plot(w, color='k', label=\"reconstruction\")\n",
    "plt.plot(q, color='orange', label=\"original\")\n",
    "plt.legend()"
   ]
  },
  {
   "cell_type": "code",
   "execution_count": 144,
   "metadata": {},
   "outputs": [
    {
     "data": {
      "text/plain": [
       "'write_reconstruction(dec,\\n                     mda.Universe(\"/wrk/eurastof/binding_spots_project/gpcr_sampling/b2ar/b2ar_centered_aligned/chol-sdpc-site-2/step6.6_equilibration.gro\"),\\n                     \"./reconst\")'"
      ]
     },
     "execution_count": 144,
     "metadata": {},
     "output_type": "execute_result"
    }
   ],
   "source": [
    "\n",
    "def write_reconstruction(reconst_arr, universe, filename):\n",
    "    \n",
    "    atoms = universe.select_atoms(\"name CA\")\n",
    "    atoms.write(f\"{filename}.gro\")\n",
    "    with mda.Writer(f\"{filename}.xtc\", atoms.n_atoms) as W:\n",
    "        for ts in range(reconst_arr.shape[0]):\n",
    "            pos = reconst_arr[ts,:].reshape(311,3)\n",
    "            atoms.positions = pos\n",
    "            W.write(atoms)\n",
    "    \n",
    "    \n",
    "    \n",
    "\n",
    "\"\"\"write_reconstruction(dec,\n",
    "                     mda.Universe(\"/wrk/eurastof/binding_spots_project/gpcr_sampling/b2ar/b2ar_centered_aligned/chol-sdpc-site-2/step6.6_equilibration.gro\"),\n",
    "                     \"./reconst\")\"\"\"\n",
    "\n",
    "\n",
    "\n"
   ]
  },
  {
   "cell_type": "code",
   "execution_count": null,
   "metadata": {},
   "outputs": [],
   "source": []
  }
 ],
 "metadata": {
  "kernelspec": {
   "display_name": "Python 3.11.0 64-bit",
   "language": "python",
   "name": "python3"
  },
  "language_info": {
   "codemirror_mode": {
    "name": "ipython",
    "version": 3
   },
   "file_extension": ".py",
   "mimetype": "text/x-python",
   "name": "python",
   "nbconvert_exporter": "python",
   "pygments_lexer": "ipython3",
   "version": "3.11.0"
  },
  "orig_nbformat": 4,
  "vscode": {
   "interpreter": {
    "hash": "aee8b7b246df8f9039afb4144a1f6fd8d2ca17a180786b69acc140d282b71a49"
   }
  }
 },
 "nbformat": 4,
 "nbformat_minor": 2
}
