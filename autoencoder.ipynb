{
 "cells": [
  {
   "cell_type": "code",
   "execution_count": 196,
   "metadata": {},
   "outputs": [],
   "source": [
    "import torch\n",
    "from torch import nn, optim\n",
    "import numpy as np\n",
    "from matplotlib import pyplot as plt\n",
    "import mpl_toolkits.mplot3d.axes3d as p3\n",
    "from sklearn.datasets import make_swiss_roll\n",
    "from sklearn.preprocessing import MinMaxScaler, StandardScaler\n",
    "import pickle as pkl\n",
    "import random\n",
    "from sklearn.model_selection import train_test_split"
   ]
  },
  {
   "cell_type": "code",
   "execution_count": 197,
   "metadata": {},
   "outputs": [
    {
     "name": "stdout",
     "output_type": "stream",
     "text": [
      "Using cuda device.\n"
     ]
    }
   ],
   "source": [
    "device = ('cuda' if torch.cuda.is_available() else 'cpu')\n",
    "\n",
    "print(f\"Using {device} device.\")"
   ]
  },
  {
   "cell_type": "code",
   "execution_count": 198,
   "metadata": {},
   "outputs": [],
   "source": [
    "torch.cuda.empty_cache()\n"
   ]
  },
  {
   "cell_type": "code",
   "execution_count": 199,
   "metadata": {},
   "outputs": [],
   "source": [
    "# The encoder\n",
    "\n",
    "class Autoencoder(nn.Module):\n",
    "\n",
    "    def __init__(self, in_shape, enc_shape):\n",
    "        super(Autoencoder, self).__init__()\n",
    "        \n",
    "        self.encode = nn.Sequential(\n",
    "            nn.Linear(in_shape, 512),\n",
    "            nn.ReLU(True),\n",
    "            #nn.Dropout(0.2),\n",
    "            nn.Linear(512, 256),\n",
    "            nn.ReLU(True),\n",
    "            #nn.Dropout(0.2),\n",
    "            nn.Linear(256, 128),\n",
    "            nn.ReLU(True),\n",
    "            #nn.Dropout(0.2),\n",
    "            nn.Linear(128, 64),\n",
    "            nn.ReLU(True),\n",
    "            nn.Linear(64, enc_shape)\n",
    "        )\n",
    "        \n",
    "        self.decode = nn.Sequential(\n",
    "            nn.BatchNorm1d(enc_shape),\n",
    "            nn.Linear(enc_shape, 64),\n",
    "            nn.ReLU(True),\n",
    "            #nn.Dropout(0.2),\n",
    "            nn.Linear(64, 128),\n",
    "            nn.ReLU(True),\n",
    "            #nn.Dropout(0.2),\n",
    "            nn.Linear(128, 256),\n",
    "            nn.ReLU(True),\n",
    "            #nn.Dropout(0.2),\n",
    "            nn.Linear(256, 512),\n",
    "            nn.ReLU(True),\n",
    "            nn.Linear(512, in_shape)\n",
    "        )\n",
    "        \n",
    "    def forward(self, x):\n",
    "        x = self.encode(x)\n",
    "        x = self.decode(x)\n",
    "        return x"
   ]
  },
  {
   "cell_type": "code",
   "execution_count": 200,
   "metadata": {},
   "outputs": [],
   "source": [
    "# Function to train encoder\n",
    "\n",
    "def train(model, error, optimizer, n_epochs, batch_size, x, plot):\n",
    "    model.train()\n",
    "    indices = [i for i in range(x.shape[0])]\n",
    "    errors = []\n",
    "    \n",
    "    for epoch in range(1, n_epochs + 1):\n",
    "        \n",
    "        random.shuffle(indices)\n",
    "        batches = [i for i in range(0, len(indices), batch_size)]\n",
    "\n",
    "        for i in range(len(batches) - 1):\n",
    "            \n",
    "            batch_x = x[indices[batches[i]:batches[i+1]]]\n",
    "            optimizer.zero_grad()\n",
    "            output = model(batch_x)\n",
    "            loss = error(output, batch_x)\n",
    "            loss.backward()\n",
    "            optimizer.step()\n",
    "            errors.append(loss.cpu().detach().numpy())\n",
    "            \n",
    "        if epoch % int(0.1*n_epochs) == 0:\n",
    "            print(f'epoch {epoch} \\t Loss: {loss.item():.4g}')\n",
    "    \n",
    "    if plot:\n",
    "        plt.plot(errors)"
   ]
  },
  {
   "cell_type": "code",
   "execution_count": 201,
   "metadata": {},
   "outputs": [],
   "source": [
    "with open('data_dict.pkl', 'rb') as f:\n",
    "    loaded_dict = pkl.load(f)"
   ]
  },
  {
   "cell_type": "code",
   "execution_count": 202,
   "metadata": {},
   "outputs": [],
   "source": [
    "X = np.concatenate([v for v in loaded_dict.values()])\n",
    "\n",
    "\"\"\"scaler = StandardScaler().fit(X)\n",
    "X = scaler.transform(X)\"\"\"\n",
    "\n",
    "X = X[0:-1:2,:]\n",
    "X = torch.Tensor(X).double().to(device)"
   ]
  },
  {
   "cell_type": "code",
   "execution_count": 203,
   "metadata": {},
   "outputs": [],
   "source": [
    "# function to split data into train and test sets\n",
    "def train_test_split(X, test_size):\n",
    "    \n",
    "    indices = [i for i in range(X.shape[0])]\n",
    "    random.shuffle(indices)\n",
    "    \n",
    "    test_indices = indices[:int(test_size*len(indices))]\n",
    "    train_indices = indices[int(test_size*len(indices)):]\n",
    "\n",
    "    trainX = X[train_indices,:]\n",
    "    testX = X[test_indices,:]\n",
    "    \n",
    "    return trainX, testX\n",
    "    \n",
    "    "
   ]
  },
  {
   "cell_type": "code",
   "execution_count": 204,
   "metadata": {},
   "outputs": [],
   "source": [
    "trainX, testX = train_test_split(X, 0.25)"
   ]
  },
  {
   "cell_type": "code",
   "execution_count": 205,
   "metadata": {},
   "outputs": [],
   "source": [
    "# Define dimensions\n",
    "enc_shape = 3\n",
    "inc_shape = X.shape[1]"
   ]
  },
  {
   "cell_type": "code",
   "execution_count": 206,
   "metadata": {},
   "outputs": [],
   "source": [
    "# Define model and params\n",
    "encoder = Autoencoder(in_shape=inc_shape, enc_shape=enc_shape).double().to(device)\n",
    "error = nn.L1Loss()\n",
    "optimizer = optim.Adam(encoder.parameters(), lr=1e-3)"
   ]
  },
  {
   "cell_type": "code",
   "execution_count": 207,
   "metadata": {},
   "outputs": [
    {
     "name": "stdout",
     "output_type": "stream",
     "text": [
      "epoch 1 \t Loss: 1.794\n",
      "epoch 2 \t Loss: 1.788\n",
      "epoch 3 \t Loss: 1.61\n",
      "epoch 4 \t Loss: 1.71\n",
      "epoch 5 \t Loss: 1.938\n",
      "epoch 6 \t Loss: 1.795\n",
      "epoch 7 \t Loss: 1.893\n",
      "epoch 8 \t Loss: 1.819\n",
      "epoch 9 \t Loss: 1.86\n",
      "epoch 10 \t Loss: 1.704\n"
     ]
    },
    {
     "data": {
      "image/png": "[encoded data removed]",
      "text/plain": [
       "<Figure size 432x288 with 1 Axes>"
      ]
     },
     "metadata": {
      "needs_background": "light"
     },
     "output_type": "display_data"
    }
   ],
   "source": [
    "# Train encoder\n",
    "train(encoder, error, optimizer, 10, 32, trainX, plot=True)"
   ]
  },
  {
   "cell_type": "code",
   "execution_count": 208,
   "metadata": {},
   "outputs": [
    {
     "name": "stdout",
     "output_type": "stream",
     "text": [
      "Error on test set: 1.7684028959193199\n"
     ]
    }
   ],
   "source": [
    "with torch.no_grad():\n",
    "    encoded = encoder.encode(testX)\n",
    "    decoded = encoder.decode(encoded)\n",
    "    err = error(decoded, testX).item()\n",
    "    print(f\"Error on test set: {err}\")\n",
    "    E = decoded - testX\n",
    "    enc = encoded.cpu().detach().numpy()\n",
    "    dec = decoded.cpu().detach().numpy()"
   ]
  },
  {
   "cell_type": "code",
   "execution_count": 210,
   "metadata": {},
   "outputs": [
    {
     "data": {
      "text/plain": [
       "<matplotlib.legend.Legend at 0x7fb62ca98730>"
      ]
     },
     "execution_count": 210,
     "metadata": {},
     "output_type": "execute_result"
    },
    {
     "data": {
      "image/png": "[encoded data removed]",
      "text/plain": [
       "<Figure size 432x288 with 1 Axes>"
      ]
     },
     "metadata": {
      "needs_background": "light"
     },
     "output_type": "display_data"
    }
   ],
   "source": [
    "# Plotting running means of atom positions for reconstruction and original\n",
    "n = 20\n",
    "conv = 500\n",
    "w = np.convolve(dec[:,n], np.ones(conv)/conv, mode='valid')\n",
    "q = np.convolve(testX.cpu().detach().numpy()[:,n], np.ones(conv)/conv, mode='valid')\n",
    "\n",
    "plt.plot(w, color='k', label=\"reconstruction\")\n",
    "plt.plot(q, color='orange', label=\"original\")\n",
    "plt.legend()"
   ]
  },
  {
   "cell_type": "code",
   "execution_count": null,
   "metadata": {},
   "outputs": [],
   "source": []
  },
  {
   "cell_type": "code",
   "execution_count": null,
   "metadata": {},
   "outputs": [],
   "source": []
  },
  {
   "cell_type": "code",
   "execution_count": null,
   "metadata": {},
   "outputs": [],
   "source": []
  },
  {
   "cell_type": "code",
   "execution_count": null,
   "metadata": {},
   "outputs": [],
   "source": []
  }
 ],
 "metadata": {
  "kernelspec": {
   "display_name": "Python 3",
   "language": "python",
   "name": "python3"
  },
  "language_info": {
   "codemirror_mode": {
    "name": "ipython",
    "version": 3
   },
   "file_extension": ".py",
   "mimetype": "text/x-python",
   "name": "python",
   "nbconvert_exporter": "python",
   "pygments_lexer": "ipython3",
   "version": "3.10.6"
  },
  "orig_nbformat": 4,
  "vscode": {
   "interpreter": {
    "hash": "31f2aee4e71d21fbe5cf8b01ff0e069b9275f58929596ceb00d14d90e3e16cd6"
   }
  }
 },
 "nbformat": 4,
 "nbformat_minor": 2
}
